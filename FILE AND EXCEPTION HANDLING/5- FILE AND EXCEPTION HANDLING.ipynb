{
 "cells": [
  {
   "cell_type": "code",
   "execution_count": 30,
   "id": "af12bd8e-f39a-446f-ab78-44a6fe28ea77",
   "metadata": {},
   "outputs": [],
   "source": [
    "# Creating file for running with the programs\n",
    "\n",
    "with open ('Demo_file.txt','w') as file:\n",
    "    file.write (\"Hello, This is demo file creating for showing the output of read the file and display the content\")"
   ]
  },
  {
   "cell_type": "markdown",
   "id": "b2473a4a-ca59-448c-b4ff-d893baf53265",
   "metadata": {},
   "source": [
    "# Excercise 1"
   ]
  },
  {
   "cell_type": "code",
   "execution_count": 33,
   "id": "7060f88b-23d8-47ae-949d-9d18557881a2",
   "metadata": {},
   "outputs": [
    {
     "name": "stdout",
     "output_type": "stream",
     "text": [
      "Content of the opened file is:\n",
      "Hello, This is demo file creating for showing the output of read the file and display the content\n"
     ]
    }
   ],
   "source": [
    "# Reading a file and display its contents\n",
    "\n",
    "with open ('Demo_file.txt','r') as file:\n",
    "    content = file.read()\n",
    "    print(\"Content of the opened file is:\")\n",
    "    print(content)"
   ]
  },
  {
   "cell_type": "markdown",
   "id": "b8cfe73a-e2af-4d97-9007-0aee03dbd4f9",
   "metadata": {},
   "source": [
    "# Excercise 2"
   ]
  },
  {
   "cell_type": "code",
   "execution_count": 36,
   "id": "36759f2d-a78d-4a91-a561-b715cdbe1e19",
   "metadata": {},
   "outputs": [
    {
     "name": "stdout",
     "output_type": "stream",
     "text": [
      "File copied sucessfully\n"
     ]
    }
   ],
   "source": [
    "# Copy the contents of one file to another file\n",
    "\n",
    "with open ('Demo_file.txt','r') as existing, open ('Demo_file_new.txt','w') as newfile:\n",
    "     newfile.write(existing.read())\n",
    "print(\"File copied sucessfully\")"
   ]
  },
  {
   "cell_type": "markdown",
   "id": "7dde4aff-c7c1-4ef0-9da4-32311a02d46d",
   "metadata": {},
   "source": [
    "# Excercise 3"
   ]
  },
  {
   "cell_type": "code",
   "execution_count": 39,
   "id": "067eb776-6640-4e76-8199-3293a517b0c9",
   "metadata": {},
   "outputs": [
    {
     "name": "stdout",
     "output_type": "stream",
     "text": [
      "Total number of words in the file is: 18\n"
     ]
    }
   ],
   "source": [
    "# reading the content of file and counting the total number of words in that file \n",
    "\n",
    "with open ('Demo_file_new.txt','r') as file:\n",
    "    content = file.read()\n",
    "    words = content.split()\n",
    "    words_count = len(words)\n",
    "    print(\"Total number of words in the file is:\",words_count)"
   ]
  },
  {
   "cell_type": "markdown",
   "id": "481edcad-c7ad-4a6d-831f-c8d3c91253f9",
   "metadata": {},
   "source": [
    "# Excercise 4"
   ]
  },
  {
   "cell_type": "code",
   "execution_count": 44,
   "id": "85022d5c-886e-4dad-87ce-405c0b25f0eb",
   "metadata": {},
   "outputs": [
    {
     "name": "stdin",
     "output_type": "stream",
     "text": [
      "Enter a number:  \n"
     ]
    },
    {
     "name": "stdout",
     "output_type": "stream",
     "text": [
      "Error: Invalid input. Please enter a valid integer.\n"
     ]
    }
   ],
   "source": [
    "# input a string and converts it to an integer, use try-except to block to handle exceptions\n",
    "\n",
    "def converting_to_integer():\n",
    "    try:\n",
    "        number = int(input(\"Enter a number: \"))\n",
    "        print(f\"Success!!! The integer value is {number}.\")\n",
    "    except ValueError:\n",
    "        print(\"Error: Invalid input. Please enter a valid integer.\")\n",
    "\n",
    "converting_to_integer()"
   ]
  },
  {
   "cell_type": "markdown",
   "id": "7aef5639-07ed-47a4-8138-62b56a18547c",
   "metadata": {},
   "source": [
    "# Excercise 5"
   ]
  },
  {
   "cell_type": "code",
   "execution_count": 47,
   "id": "16dd6f6c-25b3-4206-8ca3-1d50c3cf10f1",
   "metadata": {},
   "outputs": [
    {
     "name": "stdin",
     "output_type": "stream",
     "text": [
      "Enter a list of integers separated by spaces: 7 4 1 23 65 98 8 6 39\n"
     ]
    },
    {
     "name": "stdout",
     "output_type": "stream",
     "text": [
      "You entered a valid list of positive integers: [7, 4, 1, 23, 65, 98, 8, 6, 39]\n"
     ]
    }
   ],
   "source": [
    "# input a list of integers and raise an exception if any of the integers are negative\n",
    "\n",
    "def get_integers():\n",
    "    try:\n",
    "        user_input = input(\"Enter a list of integers separated by spaces:\")\n",
    "        numbers = list(map(int,user_input.split()))\n",
    "        for num in numbers:        \n",
    "            if num < 0:\n",
    "                raise valueError(\"Negative numbers are not allowed.\")\n",
    "        print(\"You entered a valid list of positive integers:\",numbers)\n",
    "    except ValueError as e:\n",
    "        print(\"Error;\",e)\n",
    "\n",
    "get_integers()"
   ]
  },
  {
   "cell_type": "markdown",
   "id": "f50aad8e-1e95-4bdd-a439-69c0a11aa751",
   "metadata": {},
   "source": [
    "# Excersice 6"
   ]
  },
  {
   "cell_type": "code",
   "execution_count": 9,
   "id": "617cd4db-e466-4847-aff8-8439f5a7799b",
   "metadata": {},
   "outputs": [
    {
     "name": "stdin",
     "output_type": "stream",
     "text": [
      "Enter a list of integers separated by spaces: 7 4 1 85 25 96 39 6\n"
     ]
    },
    {
     "name": "stdout",
     "output_type": "stream",
     "text": [
      "The average is: 32.875\n",
      "Program has finished running\n"
     ]
    }
   ],
   "source": [
    "# Input a list of integers and compute the average of those integers\n",
    "\n",
    "def compute_average():\n",
    "    try:\n",
    "        user_input = input(\"Enter a list of integers separated by spaces:\")\n",
    "        numbers = [int(num) for num in user_input.split()]\n",
    "        average = sum(numbers) / len(numbers)\n",
    "        print(f\"The average is: {average}\")\n",
    "    except ValueError:\n",
    "        print(\"Error: Please enter only integers separated by spaces\")\n",
    "    except ZeroDivisionError:\n",
    "        print(\"Error: Without any values cannot compute the average\")\n",
    "    finally:\n",
    "        print(\"Program has finished running\")\n",
    "\n",
    "compute_average()"
   ]
  },
  {
   "cell_type": "markdown",
   "id": "3d1c5e04-ca96-42d8-95a9-941949258490",
   "metadata": {},
   "source": [
    "# Excersice 7"
   ]
  },
  {
   "cell_type": "code",
   "execution_count": 28,
   "id": "0d69e2c6-4cc9-4ff7-8276-25a66bdb809b",
   "metadata": {},
   "outputs": [
    {
     "name": "stdin",
     "output_type": "stream",
     "text": [
      "Enter the filename: Welcome\n"
     ]
    },
    {
     "name": "stdout",
     "output_type": "stream",
     "text": [
      "Welcome, File has been written sucessfully.\n",
      "Program has finished sucessfully\n"
     ]
    }
   ],
   "source": [
    "# input a file name and wrie a string to that file\n",
    "\n",
    "def write_file():\n",
    "    try:\n",
    "        filename = input (\"Enter the filename:\")\n",
    "        content = \"Welcome! This is a sample text written file.\"\n",
    "        with open(filename,'w') as file:\n",
    "            file.write(content)\n",
    "        print(\"Welcome, File has been written sucessfully.\")\n",
    "    except Exception as e:\n",
    "        print(f\"An error occured: {e}\")\n",
    "    finally:\n",
    "        print(\"Program has finished sucessfully\")\n",
    "\n",
    "write_file()"
   ]
  }
 ],
 "metadata": {
  "kernelspec": {
   "display_name": "Python [conda env:base] *",
   "language": "python",
   "name": "conda-base-py"
  },
  "language_info": {
   "codemirror_mode": {
    "name": "ipython",
    "version": 3
   },
   "file_extension": ".py",
   "mimetype": "text/x-python",
   "name": "python",
   "nbconvert_exporter": "python",
   "pygments_lexer": "ipython3",
   "version": "3.12.7"
  }
 },
 "nbformat": 4,
 "nbformat_minor": 5
}
