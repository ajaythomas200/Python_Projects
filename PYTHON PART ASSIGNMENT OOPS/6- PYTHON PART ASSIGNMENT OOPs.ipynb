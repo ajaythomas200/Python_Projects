{
 "cells": [
  {
   "cell_type": "markdown",
   "id": "7430b28b-3112-4e72-a22e-505e26376588",
   "metadata": {},
   "source": [
    "# Exercise 1"
   ]
  },
  {
   "cell_type": "code",
   "execution_count": 158,
   "id": "150c046d-5061-4bd9-8d91-ecc124996861",
   "metadata": {},
   "outputs": [],
   "source": [
    "# Manage a university's course catalog\n",
    "\n",
    "#Base class\n",
    "class Course:\n",
    "    def __init__(self, course_code, course_name, credit_hours):\n",
    "        self.course_code = course_code\n",
    "        self.course_name = course_name\n",
    "        self.credit_hours = credit_hours\n",
    "\n",
    "    def Course_details(self):\n",
    "        return f\" Course code: {self.course_code}, Course name: {self.course_name}, Credit hours:{self.credit_hours}\"\n",
    "\n",
    "# subclass Core Courses\n",
    "class CoreCourse(Course):\n",
    "    def __init__(self, course_code, course_name, credit_hours, required_for_major):\n",
    "        super().__init__(course_code, course_name, credit_hours)\n",
    "        self.required_for_major = required_for_major\n",
    "\n",
    "    def CoreCourses_details(self):\n",
    "        return super().Course_details() + f\", Required for Major: {self.required_for_major}\"\n",
    "\n",
    "# subclass ElectiveCourse\n",
    "class ElectiveCourse(Course):\n",
    "    def __init__(self, course_code, course_name, credit_hours, elective_type):\n",
    "        super(). __init__(course_code, course_name, credit_hours)\n",
    "        self.elective_type = elective_type\n",
    "\n",
    "    def ElectiveCourse_details(self):\n",
    "        return super().Course_details() + f\", Elective Type: {self.elective_type}\""
   ]
  },
  {
   "cell_type": "code",
   "execution_count": 160,
   "id": "abd31105-fbb1-42b1-a61a-b39730d6f612",
   "metadata": {},
   "outputs": [],
   "source": [
    "course = Course(\"CS101\", \"Introduction to Computer Science\", 3)\n",
    "core = CoreCourse('CS102', \"Data Visualization\",3,True)\n",
    "elective = ElectiveCourse('CS103', \"Data Science\",5,\"Technical\")"
   ]
  },
  {
   "cell_type": "code",
   "execution_count": 162,
   "id": "03984ced-7bdd-4abe-b56b-5cb83add25d2",
   "metadata": {},
   "outputs": [
    {
     "name": "stdout",
     "output_type": "stream",
     "text": [
      " Course code: CS101, Course name: Introduction to Computer Science, Credit hours:3\n",
      " Course code: CS102, Course name: Data Visualization, Credit hours:3, Required for Major: True\n",
      " Course code: CS103, Course name: Data Science, Credit hours:5, Elective Type: Technical\n"
     ]
    }
   ],
   "source": [
    "print(course.Course_details())      \n",
    "print(core.CoreCourses_details())  \n",
    "print(elective.ElectiveCourse_details())"
   ]
  },
  {
   "cell_type": "markdown",
   "id": "943cc86e-f8b3-498e-b513-b54169abc2b6",
   "metadata": {},
   "source": [
    "# Exercise 2"
   ]
  },
  {
   "cell_type": "code",
   "execution_count": 168,
   "id": "94e0874a-5ff8-4242-bea3-c3d382c0a909",
   "metadata": {},
   "outputs": [],
   "source": [
    "# Create an object of the employee class and display its name and salary\n",
    "class Employee:\n",
    "    def __init__(self,name,salary):\n",
    "        self.name = name\n",
    "        self.salary = salary\n",
    "\n",
    "    def get_name(self):\n",
    "        return self.name\n",
    "\n",
    "    def get_salary(self):\n",
    "        return self.salary"
   ]
  },
  {
   "cell_type": "code",
   "execution_count": 174,
   "id": "7b01b540-3b83-4607-8bf2-e26ef3c8d1ef",
   "metadata": {},
   "outputs": [],
   "source": [
    "Emp1 = Employee(\"Mathew David\",80000)"
   ]
  },
  {
   "cell_type": "code",
   "execution_count": 176,
   "id": "95633100-c6b0-4721-bc6f-5032b5048a75",
   "metadata": {},
   "outputs": [
    {
     "name": "stdout",
     "output_type": "stream",
     "text": [
      "Employee Name: Mathew David\n",
      "Salary: 80000\n"
     ]
    }
   ],
   "source": [
    "print(\"Employee Name:\", Emp1.get_name())\n",
    "print(\"Salary:\", Emp1.get_salary())"
   ]
  }
 ],
 "metadata": {
  "kernelspec": {
   "display_name": "Python [conda env:base] *",
   "language": "python",
   "name": "conda-base-py"
  },
  "language_info": {
   "codemirror_mode": {
    "name": "ipython",
    "version": 3
   },
   "file_extension": ".py",
   "mimetype": "text/x-python",
   "name": "python",
   "nbconvert_exporter": "python",
   "pygments_lexer": "ipython3",
   "version": "3.12.7"
  }
 },
 "nbformat": 4,
 "nbformat_minor": 5
}
