{
 "cells": [
  {
   "cell_type": "markdown",
   "id": "c33b9608-4423-45d0-be50-7b6b571b51dd",
   "metadata": {},
   "source": [
    "# Exercise 1"
   ]
  },
  {
   "cell_type": "code",
   "execution_count": 100,
   "id": "23b11b70-b8b9-4bcb-97e8-5f3473071b32",
   "metadata": {},
   "outputs": [
    {
     "name": "stdout",
     "output_type": "stream",
     "text": [
      "The sum of 2 and 10 is: 12\n",
      "The sum of 2 and 5 is: 7\n",
      "The product of 2,5 and 4 is: 40\n"
     ]
    }
   ],
   "source": [
    "# Print sum of the first two arguments if the third argument is none and printing the product of all three arguments if the third argument is not None\n",
    "\n",
    "def calculations(a, b=10, c=None):\n",
    "    if c is None:\n",
    "        print(f\"The sum of {a} and {b} is:\",(a+b))\n",
    "    else:\n",
    "        print(f\"The product of {a},{b} and {c} is:\",(a*b*c))\n",
    "\n",
    "calculations(2)\n",
    "calculations(2,5)\n",
    "calculations(2,5,4)"
   ]
  },
  {
   "cell_type": "markdown",
   "id": "52801b47-7254-4c92-918d-abe45fc307b0",
   "metadata": {},
   "source": [
    "# Exercise 2"
   ]
  },
  {
   "cell_type": "code",
   "execution_count": 103,
   "id": "e89d34cf-07a4-43bb-bb70-ef111751eb6e",
   "metadata": {},
   "outputs": [
    {
     "name": "stdout",
     "output_type": "stream",
     "text": [
      "The string greater than 5 is: ['pigeon', 'elephent']\n"
     ]
    }
   ],
   "source": [
    "# A list of strings returns as a new list with only the strings greater than or equal to five\n",
    "\n",
    "def long_strings(strings):\n",
    "    return[ s for s in strings if len(s)>=5]\n",
    "    \n",
    "strings = [\"cat\",\"dog\",\"pigeon\",\"elephent\",\"ant\"]\n",
    "result = long_strings(strings)\n",
    "print(f\"The string greater than 5 is:\",result)"
   ]
  },
  {
   "cell_type": "markdown",
   "id": "afe6566d-e40e-4277-ba72-451549bee2a7",
   "metadata": {},
   "source": [
    "# Exercise 3"
   ]
  },
  {
   "cell_type": "code",
   "execution_count": 106,
   "id": "b4dc8481-432a-4890-a548-e3973593e1c2",
   "metadata": {},
   "outputs": [
    {
     "name": "stdout",
     "output_type": "stream",
     "text": [
      "17\n"
     ]
    }
   ],
   "source": [
    "# Evaluating a given mathematical expression using eval() function\n",
    "\n",
    "expression = \"3*5+2\"\n",
    "result = eval(expression)\n",
    "print(result)"
   ]
  },
  {
   "cell_type": "markdown",
   "id": "4df883da-d32b-4805-8b52-7471ba533c2e",
   "metadata": {},
   "source": [
    "# Exercise 4"
   ]
  },
  {
   "cell_type": "code",
   "execution_count": 109,
   "id": "851b022e-9c0d-48d6-8db2-936dbc0aca2e",
   "metadata": {},
   "outputs": [
    {
     "name": "stdout",
     "output_type": "stream",
     "text": [
      "[2, 5, 3, 7, 13]\n"
     ]
    }
   ],
   "source": [
    "# Filter out the prime numbers from a given list of integers using filter() function\n",
    "\n",
    "def prime_numbers_list(n):\n",
    "    if n <= 1:\n",
    "        return False\n",
    "    for i in range (2,int(n**0.5)+1):\n",
    "        if n % i == 0:\n",
    "            return False\n",
    "    return True\n",
    "\n",
    "numbers = [2,5,8,9,6,3,7,4,1,12,13,36,54,]\n",
    "prime_numbers = list(filter(prime_numbers_list,numbers))\n",
    "print(prime_numbers)"
   ]
  },
  {
   "cell_type": "markdown",
   "id": "8d6a528d-c28b-4f5c-9e65-66ef00b1d2a2",
   "metadata": {},
   "source": [
    "# Exercise 5"
   ]
  },
  {
   "cell_type": "code",
   "execution_count": 112,
   "id": "3adda6a6-1784-42b2-890c-28c712b2ac4c",
   "metadata": {},
   "outputs": [
    {
     "name": "stdout",
     "output_type": "stream",
     "text": [
      "['HELLO', 'WORLD', 'PYTHON', 'IS', 'FUN']\n"
     ]
    }
   ],
   "source": [
    "# Converting a list of strings to uppercase using the map() function\n",
    "    \n",
    "words = [\"hello\", \"world\", \"python\", \"is\", \"fun\"]\n",
    "uppercase_words = list(map(str.upper, words))\n",
    "print(uppercase_words)"
   ]
  }
 ],
 "metadata": {
  "kernelspec": {
   "display_name": "Python [conda env:base] *",
   "language": "python",
   "name": "conda-base-py"
  },
  "language_info": {
   "codemirror_mode": {
    "name": "ipython",
    "version": 3
   },
   "file_extension": ".py",
   "mimetype": "text/x-python",
   "name": "python",
   "nbconvert_exporter": "python",
   "pygments_lexer": "ipython3",
   "version": "3.12.7"
  }
 },
 "nbformat": 4,
 "nbformat_minor": 5
}
